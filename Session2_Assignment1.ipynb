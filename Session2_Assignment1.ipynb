{
 "cells": [
  {
   "cell_type": "code",
   "execution_count": 2,
   "metadata": {},
   "outputs": [
    {
     "name": "stdout",
     "output_type": "stream",
     "text": [
      "Input comma seprated numbers : 70,61,98,57,49,35\n",
      "List :  ['70', '61', '98', '57', '49', '35']\n"
     ]
    }
   ],
   "source": [
    "# Question:\n",
    "# Write a program which accepts a sequence of comma-separated numbers from console and generate a list\n",
    "\n",
    "#Solution :\n",
    "\n",
    "a = input(\"Input comma seprated numbers : \")\n",
    "list = a.split(\",\")\n",
    "print('List : ',list)"
   ]
  },
  {
   "cell_type": "code",
   "execution_count": null,
   "metadata": {
    "collapsed": true
   },
   "outputs": [],
   "source": []
  }
 ],
 "metadata": {
  "kernelspec": {
   "display_name": "Python 3",
   "language": "python",
   "name": "python3"
  },
  "language_info": {
   "codemirror_mode": {
    "name": "ipython",
    "version": 3
   },
   "file_extension": ".py",
   "mimetype": "text/x-python",
   "name": "python",
   "nbconvert_exporter": "python",
   "pygments_lexer": "ipython3",
   "version": "3.6.2"
  }
 },
 "nbformat": 4,
 "nbformat_minor": 2
}
